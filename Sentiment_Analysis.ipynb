# 1. Importing Libraries
import pandas as pd
import numpy as np
import matplotlib.pyplot as plt
import seaborn as sns
from nltk.corpus import stopwords
from nltk.tokenize import word_tokenize
from nltk.sentiment.vader import SentimentIntensityAnalyzer

# 2. Loading the Data
comments_df = pd.read_csv('comments.csv')
comments_df.head()

# 3. Data Preprocessing
# Remove any URLs, special characters, and convert text to lowercase.
def preprocess_text(text):
    text = re.sub(r'http\S+', '', text)  # Remove URLs
    text = re.sub(r'[^A-Za-z0-9 ]+', '', text)  # Remove special characters
    return text.lower()

comments_df['cleaned_comment'] = comments_df['comment'].apply(preprocess_text)

# 4. Tokenization
# Split each comment into individual words.
comments_df['tokens'] = comments_df['cleaned_comment'].apply(word_tokenize)

# 5. Removing Stop Words
stop_words = set(stopwords.words('english'))
comments_df['tokens'] = comments_df['tokens'].apply(lambda x: [word for word in x if word not in stop_words])

# 6. Sentiment Analysis
sia = SentimentIntensityAnalyzer()

# Function to get sentiment scores
def analyze_sentiment(text):
    score = sia.polarity_scores(text)
    return score

comments_df['sentiment'] = comments_df['cleaned_comment'].apply(lambda x: analyze_sentiment(x)['compound'])
comments_df['sentiment_label'] = comments_df['sentiment'].apply(lambda x: 'positive' if x > 0 else 'negative' if x < 0 else 'neutral')

# 7. Visualization
# Bar plot for sentiment distribution
sns.countplot(x='sentiment_label', data=comments_df)
plt.title('Sentiment Distribution of Instagram Comments')
plt.show()

# Display a few rows of the final DataFrame
comments_df[['comment', 'cleaned_comment', 'sentiment_label']].head()
